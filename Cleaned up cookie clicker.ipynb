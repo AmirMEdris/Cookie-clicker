{
 "cells": [
  {
   "cell_type": "code",
   "execution_count": 1,
   "metadata": {},
   "outputs": [],
   "source": [
    "import PythonClicker as pc\n",
    "import cookie\n",
    "import multiprocessing\n",
    "import threading\n",
    "from time import time as t\n",
    "import matplotlib.pyplot as plt\n",
    "import pandas as pd\n",
    "from statsmodels.formula.api import ols\n"
   ]
  },
  {
   "cell_type": "code",
   "execution_count": 3,
   "metadata": {},
   "outputs": [
    {
     "name": "stdout",
     "output_type": "stream",
     "text": [
      "Finished 100 in 11.6393301486969 seconds\n"
     ]
    }
   ],
   "source": [
    "python100 = pc.timedClickCookie100()"
   ]
  },
  {
   "cell_type": "code",
   "execution_count": null,
   "metadata": {},
   "outputs": [],
   "source": [
    "def clickthecookie(times):#O(1)\n",
    "    moveTo(Cookie)#O(1)\n",
    "    for i in range(times):#O(n)\n",
    "        click()#O(1)\n",
    "# using big o we can determine that for n input this funciton will take\n",
    "#O(n)+O(1)+O(1)+O(1)\n",
    "#since the biggest term is whats going to give us the best idea of how long\n",
    "#this will take we will drop the constants and take O(n)\n",
    "#essentially this function will take longer for bigger numbers by a constant factor\n",
    "#if we graph the time for each input in a range we should get a line"
   ]
  },
  {
   "cell_type": "code",
   "execution_count": 35,
   "metadata": {},
   "outputs": [],
   "source": [
    "timestocompute = []\n",
    "inputs = []\n",
    "for i in range(100):\n",
    "    start=t()\n",
    "    pc.clickthecookie(i)\n",
    "    finish = t()-start\n",
    "    timestocompute.append(finish)\n",
    "    inputs.append(i)"
   ]
  },
  {
   "cell_type": "code",
   "execution_count": 38,
   "metadata": {},
   "outputs": [
    {
     "data": {
      "text/plain": [
       "<matplotlib.collections.PathCollection at 0x7f9ee186ac40>"
      ]
     },
     "execution_count": 38,
     "metadata": {},
     "output_type": "execute_result"
    },
    {
     "data": {
      "image/png": "[encoded data removed]",
      "text/plain": [
       "<Figure size 432x288 with 1 Axes>"
      ]
     },
     "metadata": {
      "needs_background": "light"
     },
     "output_type": "display_data"
    }
   ],
   "source": [
    "plt.scatter(inputs,timestocompute)#which we do"
   ]
  },
  {
   "cell_type": "code",
   "execution_count": 44,
   "metadata": {},
   "outputs": [
    {
     "data": {
      "text/html": [
       "<table class=\"simpletable\">\n",
       "<caption>OLS Regression Results</caption>\n",
       "<tr>\n",
       "  <th>Dep. Variable:</th>            <td>Y</td>        <th>  R-squared:         </th> <td>   1.000</td> \n",
       "</tr>\n",
       "<tr>\n",
       "  <th>Model:</th>                   <td>OLS</td>       <th>  Adj. R-squared:    </th> <td>   1.000</td> \n",
       "</tr>\n",
       "<tr>\n",
       "  <th>Method:</th>             <td>Least Squares</td>  <th>  F-statistic:       </th> <td>2.959e+05</td>\n",
       "</tr>\n",
       "<tr>\n",
       "  <th>Date:</th>             <td>Tue, 08 Sep 2020</td> <th>  Prob (F-statistic):</th> <td>2.42e-172</td>\n",
       "</tr>\n",
       "<tr>\n",
       "  <th>Time:</th>                 <td>05:23:47</td>     <th>  Log-Likelihood:    </th> <td>  135.50</td> \n",
       "</tr>\n",
       "<tr>\n",
       "  <th>No. Observations:</th>      <td>   100</td>      <th>  AIC:               </th> <td>  -267.0</td> \n",
       "</tr>\n",
       "<tr>\n",
       "  <th>Df Residuals:</th>          <td>    98</td>      <th>  BIC:               </th> <td>  -261.8</td> \n",
       "</tr>\n",
       "<tr>\n",
       "  <th>Df Model:</th>              <td>     1</td>      <th>                     </th>     <td> </td>    \n",
       "</tr>\n",
       "<tr>\n",
       "  <th>Covariance Type:</th>      <td>nonrobust</td>    <th>                     </th>     <td> </td>    \n",
       "</tr>\n",
       "</table>\n",
       "<table class=\"simpletable\">\n",
       "<tr>\n",
       "      <td></td>         <th>coef</th>     <th>std err</th>      <th>t</th>      <th>P>|t|</th>  <th>[0.025</th>    <th>0.975]</th>  \n",
       "</tr>\n",
       "<tr>\n",
       "  <th>Intercept</th> <td>    0.0434</td> <td>    0.013</td> <td>    3.468</td> <td> 0.001</td> <td>    0.019</td> <td>    0.068</td>\n",
       "</tr>\n",
       "<tr>\n",
       "  <th>X</th>         <td>    0.1188</td> <td>    0.000</td> <td>  543.944</td> <td> 0.000</td> <td>    0.118</td> <td>    0.119</td>\n",
       "</tr>\n",
       "</table>\n",
       "<table class=\"simpletable\">\n",
       "<tr>\n",
       "  <th>Omnibus:</th>       <td> 7.570</td> <th>  Durbin-Watson:     </th> <td>   0.263</td>\n",
       "</tr>\n",
       "<tr>\n",
       "  <th>Prob(Omnibus):</th> <td> 0.023</td> <th>  Jarque-Bera (JB):  </th> <td>   3.274</td>\n",
       "</tr>\n",
       "<tr>\n",
       "  <th>Skew:</th>          <td>-0.127</td> <th>  Prob(JB):          </th> <td>   0.195</td>\n",
       "</tr>\n",
       "<tr>\n",
       "  <th>Kurtosis:</th>      <td> 2.151</td> <th>  Cond. No.          </th> <td>    114.</td>\n",
       "</tr>\n",
       "</table><br/><br/>Warnings:<br/>[1] Standard Errors assume that the covariance matrix of the errors is correctly specified."
      ],
      "text/plain": [
       "<class 'statsmodels.iolib.summary.Summary'>\n",
       "\"\"\"\n",
       "                            OLS Regression Results                            \n",
       "==============================================================================\n",
       "Dep. Variable:                      Y   R-squared:                       1.000\n",
       "Model:                            OLS   Adj. R-squared:                  1.000\n",
       "Method:                 Least Squares   F-statistic:                 2.959e+05\n",
       "Date:                Tue, 08 Sep 2020   Prob (F-statistic):          2.42e-172\n",
       "Time:                        05:23:47   Log-Likelihood:                 135.50\n",
       "No. Observations:                 100   AIC:                            -267.0\n",
       "Df Residuals:                      98   BIC:                            -261.8\n",
       "Df Model:                           1                                         \n",
       "Covariance Type:            nonrobust                                         \n",
       "==============================================================================\n",
       "                 coef    std err          t      P>|t|      [0.025      0.975]\n",
       "------------------------------------------------------------------------------\n",
       "Intercept      0.0434      0.013      3.468      0.001       0.019       0.068\n",
       "X              0.1188      0.000    543.944      0.000       0.118       0.119\n",
       "==============================================================================\n",
       "Omnibus:                        7.570   Durbin-Watson:                   0.263\n",
       "Prob(Omnibus):                  0.023   Jarque-Bera (JB):                3.274\n",
       "Skew:                          -0.127   Prob(JB):                        0.195\n",
       "Kurtosis:                       2.151   Cond. No.                         114.\n",
       "==============================================================================\n",
       "\n",
       "Warnings:\n",
       "[1] Standard Errors assume that the covariance matrix of the errors is correctly specified.\n",
       "\"\"\""
      ]
     },
     "execution_count": 44,
     "metadata": {},
     "output_type": "execute_result"
    }
   ],
   "source": [
    "# we can even take this one step further and make a function that will\n",
    "#predict how much time our click function will take per input\n",
    "\n",
    "df = pd.DataFrame(list(zip(inputs, timestocompute)), columns =['X', 'Y'])\n",
    "lm = ols(data = df, formula = 'Y~X').fit()\n",
    "lm.summary()"
   ]
  },
  {
   "cell_type": "code",
   "execution_count": 13,
   "metadata": {},
   "outputs": [],
   "source": [
    "def f(x):\n",
    "    return (0.1188*x)+0.0434\n",
    "timeprediction = f(1000)\n",
    "start = t()\n",
    "pc.clickthecookie(1000)\n",
    "timeittook = t()-start"
   ]
  },
  {
   "cell_type": "code",
   "execution_count": 14,
   "metadata": {},
   "outputs": [
    {
     "name": "stdout",
     "output_type": "stream",
     "text": [
      "Time we predicted: 118.8434 \n",
      "Time it actually took: 116.00708389282227\n"
     ]
    }
   ],
   "source": [
    "print(f'Time we predicted: {timeprediction} \\nTime it actually took: {timeittook}')"
   ]
  },
  {
   "cell_type": "code",
   "execution_count": 5,
   "metadata": {},
   "outputs": [],
   "source": [
    "ctimestocompute = []\n",
    "cinputs = []\n",
    "for i in range(100):\n",
    "    start=t()\n",
    "    pc.clickthecookie(i)\n",
    "    finish = t()-start\n",
    "    ctimestocompute.append(finish)\n",
    "    cinputs.append(i)"
   ]
  },
  {
   "cell_type": "code",
   "execution_count": 6,
   "metadata": {},
   "outputs": [
    {
     "data": {
      "text/html": [
       "<table class=\"simpletable\">\n",
       "<caption>OLS Regression Results</caption>\n",
       "<tr>\n",
       "  <th>Dep. Variable:</th>            <td>Y</td>        <th>  R-squared:         </th> <td>   0.999</td> \n",
       "</tr>\n",
       "<tr>\n",
       "  <th>Model:</th>                   <td>OLS</td>       <th>  Adj. R-squared:    </th> <td>   0.999</td> \n",
       "</tr>\n",
       "<tr>\n",
       "  <th>Method:</th>             <td>Least Squares</td>  <th>  F-statistic:       </th> <td>1.418e+05</td>\n",
       "</tr>\n",
       "<tr>\n",
       "  <th>Date:</th>             <td>Tue, 08 Sep 2020</td> <th>  Prob (F-statistic):</th> <td>1.07e-156</td>\n",
       "</tr>\n",
       "<tr>\n",
       "  <th>Time:</th>                 <td>06:02:32</td>     <th>  Log-Likelihood:    </th> <td>  99.886</td> \n",
       "</tr>\n",
       "<tr>\n",
       "  <th>No. Observations:</th>      <td>   100</td>      <th>  AIC:               </th> <td>  -195.8</td> \n",
       "</tr>\n",
       "<tr>\n",
       "  <th>Df Residuals:</th>          <td>    98</td>      <th>  BIC:               </th> <td>  -190.6</td> \n",
       "</tr>\n",
       "<tr>\n",
       "  <th>Df Model:</th>              <td>     1</td>      <th>                     </th>     <td> </td>    \n",
       "</tr>\n",
       "<tr>\n",
       "  <th>Covariance Type:</th>      <td>nonrobust</td>    <th>                     </th>     <td> </td>    \n",
       "</tr>\n",
       "</table>\n",
       "<table class=\"simpletable\">\n",
       "<tr>\n",
       "      <td></td>         <th>coef</th>     <th>std err</th>      <th>t</th>      <th>P>|t|</th>  <th>[0.025</th>    <th>0.975]</th>  \n",
       "</tr>\n",
       "<tr>\n",
       "  <th>Intercept</th> <td>    0.0886</td> <td>    0.018</td> <td>    4.957</td> <td> 0.000</td> <td>    0.053</td> <td>    0.124</td>\n",
       "</tr>\n",
       "<tr>\n",
       "  <th>X</th>         <td>    0.1174</td> <td>    0.000</td> <td>  376.543</td> <td> 0.000</td> <td>    0.117</td> <td>    0.118</td>\n",
       "</tr>\n",
       "</table>\n",
       "<table class=\"simpletable\">\n",
       "<tr>\n",
       "  <th>Omnibus:</th>       <td>20.519</td> <th>  Durbin-Watson:     </th> <td>   0.196</td>\n",
       "</tr>\n",
       "<tr>\n",
       "  <th>Prob(Omnibus):</th> <td> 0.000</td> <th>  Jarque-Bera (JB):  </th> <td>  25.262</td>\n",
       "</tr>\n",
       "<tr>\n",
       "  <th>Skew:</th>          <td> 1.143</td> <th>  Prob(JB):          </th> <td>3.27e-06</td>\n",
       "</tr>\n",
       "<tr>\n",
       "  <th>Kurtosis:</th>      <td> 3.916</td> <th>  Cond. No.          </th> <td>    114.</td>\n",
       "</tr>\n",
       "</table><br/><br/>Warnings:<br/>[1] Standard Errors assume that the covariance matrix of the errors is correctly specified."
      ],
      "text/plain": [
       "<class 'statsmodels.iolib.summary.Summary'>\n",
       "\"\"\"\n",
       "                            OLS Regression Results                            \n",
       "==============================================================================\n",
       "Dep. Variable:                      Y   R-squared:                       0.999\n",
       "Model:                            OLS   Adj. R-squared:                  0.999\n",
       "Method:                 Least Squares   F-statistic:                 1.418e+05\n",
       "Date:                Tue, 08 Sep 2020   Prob (F-statistic):          1.07e-156\n",
       "Time:                        06:02:32   Log-Likelihood:                 99.886\n",
       "No. Observations:                 100   AIC:                            -195.8\n",
       "Df Residuals:                      98   BIC:                            -190.6\n",
       "Df Model:                           1                                         \n",
       "Covariance Type:            nonrobust                                         \n",
       "==============================================================================\n",
       "                 coef    std err          t      P>|t|      [0.025      0.975]\n",
       "------------------------------------------------------------------------------\n",
       "Intercept      0.0886      0.018      4.957      0.000       0.053       0.124\n",
       "X              0.1174      0.000    376.543      0.000       0.117       0.118\n",
       "==============================================================================\n",
       "Omnibus:                       20.519   Durbin-Watson:                   0.196\n",
       "Prob(Omnibus):                  0.000   Jarque-Bera (JB):               25.262\n",
       "Skew:                           1.143   Prob(JB):                     3.27e-06\n",
       "Kurtosis:                       3.916   Cond. No.                         114.\n",
       "==============================================================================\n",
       "\n",
       "Warnings:\n",
       "[1] Standard Errors assume that the covariance matrix of the errors is correctly specified.\n",
       "\"\"\""
      ]
     },
     "execution_count": 6,
     "metadata": {},
     "output_type": "execute_result"
    }
   ],
   "source": [
    "df = pd.DataFrame(list(zip(cinputs, ctimestocompute)), columns =['X', 'Y'])\n",
    "lm = ols(data = df, formula = 'Y~X').fit()\n",
    "lm.summary()"
   ]
  },
  {
   "cell_type": "code",
   "execution_count": 8,
   "metadata": {},
   "outputs": [
    {
     "data": {
      "text/plain": [
       "<matplotlib.collections.PathCollection at 0x7f93903676a0>"
      ]
     },
     "execution_count": 8,
     "metadata": {},
     "output_type": "execute_result"
    },
    {
     "data": {
      "image/png": "[encoded data removed]",
      "text/plain": [
       "<Figure size 432x288 with 1 Axes>"
      ]
     },
     "metadata": {
      "needs_background": "light"
     },
     "output_type": "display_data"
    }
   ],
   "source": [
    "plt.scatter(cinputs,ctimestocompute,c='red')#which we do"
   ]
  },
  {
   "cell_type": "code",
   "execution_count": 11,
   "metadata": {},
   "outputs": [],
   "source": [
    "start = t()\n",
    "cookie.clickx(1000)\n",
    "c1000 = t()-start"
   ]
  },
  {
   "cell_type": "code",
   "execution_count": 12,
   "metadata": {},
   "outputs": [
    {
     "data": {
      "text/plain": [
       "116.13540887832642"
      ]
     },
     "execution_count": 12,
     "metadata": {},
     "output_type": "execute_result"
    }
   ],
   "source": [
    "c1000"
   ]
  },
  {
   "cell_type": "code",
   "execution_count": 2,
   "metadata": {},
   "outputs": [],
   "source": [
    "start = t()\n",
    "cookie.click100()\n",
    "c100 = t()-start"
   ]
  },
  {
   "cell_type": "code",
   "execution_count": 4,
   "metadata": {},
   "outputs": [
    {
     "name": "stdout",
     "output_type": "stream",
     "text": [
      "The Python version of our functions time: 11.639549970626831\n",
      "The C version of our funtions time: 11.719779014587402\n"
     ]
    }
   ],
   "source": [
    "print(f'The Python version of our functions time: {python100}\\nThe C version of our funtions time: {c100}')"
   ]
  },
  {
   "cell_type": "code",
   "execution_count": 16,
   "metadata": {},
   "outputs": [],
   "source": [
    "start = t()\n",
    "threads = []\n",
    "for _ in range(10):\n",
    "    th = threading.Thread(target = cookie.click100)\n",
    "    threads.append(th)\n",
    "for thread in threads:\n",
    "    thread.start()\n",
    "for thread in threads:\n",
    "    thread.join()\n",
    "threadtime=t()-start"
   ]
  },
  {
   "cell_type": "code",
   "execution_count": 19,
   "metadata": {},
   "outputs": [
    {
     "name": "stdout",
     "output_type": "stream",
     "text": [
      "Finished 100 in 11.700037002563477 seconds\n",
      "Finished 100 in 11.802128314971924 secondsFinished 100 in 11.800287961959839 secondsFinished 100 in 11.80092191696167 secondsFinished 100 in 11.802232027053833 secondsFinished 100 in 11.801367044448853 secondsFinished 100 in 11.801735162734985 secondsFinished 100 in 11.801661252975464 secondsFinished 100 in 11.802236795425415 seconds\n",
      "\n",
      "\n",
      "\n",
      "\n",
      "\n",
      "\n",
      "\n",
      "Finished 100 in 11.803233861923218 seconds\n"
     ]
    }
   ],
   "source": [
    "start = t()\n",
    "threads = []\n",
    "for _ in range(10):\n",
    "    th = threading.Thread(target = pc.timedClickCookie100)\n",
    "    threads.append(th)\n",
    "for thread in threads:\n",
    "    thread.start()\n",
    "for thread in threads:\n",
    "    thread.join()\n",
    "pythreadtime = t()-start"
   ]
  },
  {
   "cell_type": "code",
   "execution_count": 20,
   "metadata": {},
   "outputs": [
    {
     "name": "stdout",
     "output_type": "stream",
     "text": [
      "11.772315979003906 11.805509805679321\n"
     ]
    }
   ],
   "source": [
    "print(threadtime,pythreadtime)"
   ]
  },
  {
   "cell_type": "code",
   "execution_count": 23,
   "metadata": {},
   "outputs": [],
   "source": [
    "start = t()\n",
    "ps = []\n",
    "for _ in range(10):\n",
    "    p = multiprocessing.Process(target = cookie.click100)\n",
    "    ps.append(p)\n",
    "for proc in ps:\n",
    "    proc.start()\n",
    "for proc in ps:\n",
    "    proc.join()\n",
    "multitime=t()-start"
   ]
  },
  {
   "cell_type": "code",
   "execution_count": 24,
   "metadata": {},
   "outputs": [],
   "source": [
    "start = t()\n",
    "ps1 = []\n",
    "for _ in range(10):\n",
    "    process = multiprocessing.Process(target = pc.timedClickCookie100)\n",
    "    ps1.append(process)\n",
    "for process in ps1:\n",
    "    process.start()\n",
    "for process in ps1:\n",
    "    process.join()\n",
    "pymultitime = t()-start"
   ]
  },
  {
   "cell_type": "code",
   "execution_count": 25,
   "metadata": {},
   "outputs": [
    {
     "name": "stdout",
     "output_type": "stream",
     "text": [
      "12.9668447971344 12.883157968521118\n"
     ]
    }
   ],
   "source": [
    "print(multitime,pymultitime)"
   ]
  },
  {
   "cell_type": "code",
   "execution_count": null,
   "metadata": {},
   "outputs": [],
   "source": []
  }
 ],
 "metadata": {
  "kernelspec": {
   "display_name": "Python 3",
   "language": "python",
   "name": "python3"
  },
  "language_info": {
   "codemirror_mode": {
    "name": "ipython",
    "version": 3
   },
   "file_extension": ".py",
   "mimetype": "text/x-python",
   "name": "python",
   "nbconvert_exporter": "python",
   "pygments_lexer": "ipython3",
   "version": "3.8.3"
  }
 },
 "nbformat": 4,
 "nbformat_minor": 4
}
