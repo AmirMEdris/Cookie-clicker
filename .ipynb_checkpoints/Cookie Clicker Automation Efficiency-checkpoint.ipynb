{
 "cells": [
  {
   "cell_type": "code",
   "execution_count": 1,
   "metadata": {},
   "outputs": [],
   "source": [
    "from pyautogui import moveTo,click\n",
    "from time import time as t\n",
    "import matplotlib.pyplot as plt\n",
    "from statsmodels.formula.api import ols\n",
    "import threading"
   ]
  },
  {
   "cell_type": "code",
   "execution_count": 2,
   "metadata": {},
   "outputs": [],
   "source": [
    "moveTo(120, 500)\n"
   ]
  },
  {
   "cell_type": "code",
   "execution_count": 3,
   "metadata": {},
   "outputs": [],
   "source": [
    "moveTo(135, 513)\n",
    "while False:\n",
    "    click()"
   ]
  },
  {
   "cell_type": "code",
   "execution_count": null,
   "metadata": {},
   "outputs": [],
   "source": []
  },
  {
   "cell_type": "code",
   "execution_count": 4,
   "metadata": {},
   "outputs": [],
   "source": [
    "Cookie = (135, 513)\n",
    "def clickthecookie(times):\n",
    "    for i in range(times):\n",
    "        moveTo(Cookie)\n",
    "        click()\n",
    "def negative(times):\n",
    "    Cookie2 = (120, 513)\n",
    "    for i in range(times):\n",
    "        moveTo(Cookie2)\n",
    "        click()\n",
    "        "
   ]
  },
  {
   "cell_type": "code",
   "execution_count": 5,
   "metadata": {},
   "outputs": [],
   "source": [
    "moveTo(Cookie)"
   ]
  },
  {
   "cell_type": "code",
   "execution_count": 6,
   "metadata": {},
   "outputs": [],
   "source": [
    "def TimeTheClicks(x):\n",
    "    times = x\n",
    "    start=t()\n",
    "    clickthecookie(times)\n",
    "    finish=t()\n",
    "    return finish-start\n",
    "        "
   ]
  },
  {
   "cell_type": "code",
   "execution_count": null,
   "metadata": {},
   "outputs": [
    {
     "name": "stdout",
     "output_type": "stream",
     "text": [
      "check the time it takes to run from input 0 to___50\n"
     ]
    }
   ],
   "source": [
    "times = int(input('check the time it takes to run from input 0 to___'))\n",
    "Y = [TimeTheClicks(i) for i in range(0,times)]\n",
    "X = [i for i in range(0,times)]"
   ]
  },
  {
   "cell_type": "code",
   "execution_count": null,
   "metadata": {},
   "outputs": [],
   "source": [
    "plt.scatter(X,Y)"
   ]
  },
  {
   "cell_type": "code",
   "execution_count": null,
   "metadata": {},
   "outputs": [],
   "source": [
    "import pandas as pd\n",
    "df = pd.DataFrame(list(zip(X, Y)), \n",
    "               columns =['X', 'Y'])\n",
    "df"
   ]
  },
  {
   "cell_type": "code",
   "execution_count": null,
   "metadata": {},
   "outputs": [],
   "source": [
    "line = ols(data = df,formula = 'Y~X').fit()\n",
    "line.summary()"
   ]
  },
  {
   "cell_type": "code",
   "execution_count": null,
   "metadata": {},
   "outputs": [],
   "source": [
    "def f(x):\n",
    "    return (0.1158*x)+0.1128"
   ]
  },
  {
   "cell_type": "markdown",
   "metadata": {},
   "source": [
    "As you can see we are insanely accurrate"
   ]
  },
  {
   "cell_type": "code",
   "execution_count": 124,
   "metadata": {},
   "outputs": [
    {
     "name": "stdout",
     "output_type": "stream",
     "text": [
      "prediction time: 115.91279999999999 \n",
      "time it took: 116.0391891002655\n"
     ]
    }
   ],
   "source": [
    "y = f(1000)\n",
    "y1 = TimeTheClicks(1000)\n",
    "print(f'prediction time: {y} \\ntime it took: {y1}')"
   ]
  },
  {
   "cell_type": "code",
   "execution_count": 16,
   "metadata": {},
   "outputs": [
    {
     "name": "stdout",
     "output_type": "stream",
     "text": [
      "Finished 100 in 11.779406070709229 seconds\n"
     ]
    }
   ],
   "source": [
    "def timedClickCookie100():\n",
    "    start=t()\n",
    "    clickthecookie(100)\n",
    "    print(f'Finished 100 in {t()-start} seconds')\n",
    "    return t()-start\n",
    "timedClickCookie100()\n",
    "def negative100():\n",
    "    start=t()\n",
    "    negative(100)\n",
    "    print(f'Finished 100 in {t()-start} seconds')\n",
    "    return t()-start"
   ]
  },
  {
   "cell_type": "code",
   "execution_count": 22,
   "metadata": {},
   "outputs": [
    {
     "name": "stdout",
     "output_type": "stream",
     "text": [
      "Finished 100 in 23.32767415046692 seconds\n",
      "Finished 100 in 23.328880310058594 secondsFinished 100 in 23.33017110824585 seconds\n",
      "\n",
      "Finished 100 in 23.336639165878296 seconds\n",
      "Finished 100 in 23.336169004440308 seconds\n",
      "Finished 100 in 23.340752124786377 seconds\n",
      "Finished 100 in 23.352216958999634 secondsFinished 100 in 23.350558757781982 secondsFinished 100 in 23.35312795639038 seconds\n",
      "\n",
      "\n",
      "Finished 100 in 23.3640398979187 secondsFinished 100 in 23.36223793029785 secondsFinished 100 in 23.35607624053955 seconds\n",
      "\n",
      "Finished 100 in 23.357328176498413 seconds\n",
      "\n",
      "Finished 100 in 23.35812783241272 seconds\n",
      "Finished 100 in 23.364091873168945 seconds\n",
      "Finished 100 in 23.373270750045776 secondsFinished 100 in 23.378262042999268 seconds\n",
      "Finished 100 in 23.38063883781433 secondsFinished 100 in 23.38203501701355 seconds\n",
      "Finished 100 in 23.375340938568115 seconds\n",
      "\n",
      "\n",
      "Finished 100 in 23.394152879714966 seconds\n",
      "Finished 100 in 23.391191244125366 secondsFinished 100 in 23.397454023361206 seconds\n",
      "\n",
      "Finished 100 in 23.40668821334839 seconds\n",
      "Finished 100 in 23.429208993911743 secondsFinished 100 in 23.422317028045654 seconds\n",
      "\n",
      "Finished 100 in 23.42121911048889 seconds\n",
      "Finished 100 in 23.43905997276306 seconds\n",
      "Finished 100 in 23.439393043518066 seconds\n",
      "Finished 100 in 23.44699001312256 seconds\n",
      "Finished 100 in 23.451241970062256 seconds\n",
      "Finished 100 in 23.458551168441772 seconds\n"
     ]
    }
   ],
   "source": [
    "threads = []\n",
    "for _ in range(16):\n",
    "    th=threading.Thread(target=timedClickCookie100)\n",
    "    th1 = threading.Thread(target=negative100)\n",
    "    th.start()\n",
    "    th1.start()\n",
    "    threads.append(th)\n",
    "    threads.append(th1)\n",
    "for thread in threads:\n",
    "    thread.join()\n",
    "    \n",
    "    "
   ]
  },
  {
   "cell_type": "code",
   "execution_count": null,
   "metadata": {},
   "outputs": [],
   "source": []
  }
 ],
 "metadata": {
  "kernelspec": {
   "display_name": "Python 3",
   "language": "python",
   "name": "python3"
  },
  "language_info": {
   "codemirror_mode": {
    "name": "ipython",
    "version": 3
   },
   "file_extension": ".py",
   "mimetype": "text/x-python",
   "name": "python",
   "nbconvert_exporter": "python",
   "pygments_lexer": "ipython3",
   "version": "3.8.3"
  }
 },
 "nbformat": 4,
 "nbformat_minor": 4
}
